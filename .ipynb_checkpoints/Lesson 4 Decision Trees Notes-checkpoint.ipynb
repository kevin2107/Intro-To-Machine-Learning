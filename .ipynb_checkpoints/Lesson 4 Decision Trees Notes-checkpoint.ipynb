{
 "cells": [
  {
   "cell_type": "markdown",
   "metadata": {
    "collapsed": false
   },
   "source": [
    "## Entropy\n",
    "\n",
    "\n",
    "1. Measure of impurity in a bunch of examples\n",
    "2. Controls how a decision tree decides where to split the data\n",
    "\n",
    "$$entropy =\\sum_{i}\\ -P_{i}log_{2}(P_{i})$$\n",
    "\n",
    "    Pi = Fraction of examples in a given class, such as i.\n",
    "\n",
    "- **Lowest entropy = 0**\n",
    "- **Max entropy = 1.0**\n",
    "\n"
   ]
  },
  {
   "cell_type": "code",
   "execution_count": 12,
   "metadata": {
    "collapsed": false
   },
   "outputs": [
    {
     "data": {
      "text/plain": [
       "1.0"
      ]
     },
     "execution_count": 12,
     "metadata": {},
     "output_type": "execute_result"
    }
   ],
   "source": [
    "import math\n",
    "\n",
    "-0.5*math.log(.5,2)-0.5*math.log(.5,2)#entropy of starting node"
   ]
  },
  {
   "cell_type": "markdown",
   "metadata": {
    "collapsed": false
   },
   "source": [
    "## Information Gain\n",
    "\n",
    "**Information gain** $= entropy(parent) - [Weigted Average]entropy(children)$\n",
    "\n",
    "* decision tree algorithm: [maximize information gain]\n",
    "\n"
   ]
  },
  {
   "cell_type": "code",
   "execution_count": 14,
   "metadata": {
    "collapsed": false
   },
   "outputs": [
    {
     "data": {
      "text/plain": [
       "0.9182958340544896"
      ]
     },
     "execution_count": 14,
     "metadata": {},
     "output_type": "execute_result"
    }
   ],
   "source": [
    "(-2/3)*math.log((2/3),2)-(1/3)*math.log((1/3),2)#entrop of children"
   ]
  },
  {
   "cell_type": "code",
   "execution_count": 14,
   "metadata": {
    "collapsed": false
   },
   "outputs": [
    {
     "data": {
      "text/plain": [
       "0.31120000000000003"
      ]
     },
     "execution_count": 14,
     "metadata": {},
     "output_type": "execute_result"
    }
   ],
   "source": [
    "1-(3/4)*(0.9184) + (1/4)*0#Information gain\n",
    "#split based on grade\n"
   ]
  },
  {
   "cell_type": "markdown",
   "metadata": {},
   "source": [
    "## Tuning Criterion Parameter\n",
    "\n",
    "** Parameters:** **Criterion**: String, optional (default = \"gini\")\n",
    "   \n",
    "    The Function to measure the quality of a split. Supported Criteria are \n",
    "    \"gini\" for the Gini impurity and \"entropy\" for the information gain\n",
    "    \n"
   ]
  },
  {
   "cell_type": "code",
   "execution_count": 44,
   "metadata": {
    "collapsed": false
   },
   "outputs": [
    {
     "data": {
      "text/plain": [
       "'Example of gini'"
      ]
     },
     "execution_count": 44,
     "metadata": {},
     "output_type": "execute_result"
    }
   ],
   "source": [
    "import sklearn as sk\n",
    "\n",
    "sk.tree.DecisionTreeClassifier(criterion='gini')\n",
    "'''Example of gini'''"
   ]
  },
  {
   "cell_type": "code",
   "execution_count": 45,
   "metadata": {
    "collapsed": false,
    "scrolled": true
   },
   "outputs": [
    {
     "data": {
      "text/plain": [
       "'example of entropy'"
      ]
     },
     "execution_count": 45,
     "metadata": {},
     "output_type": "execute_result"
    }
   ],
   "source": [
    "sk.tree.DecisionTreeClassifier(criterion='entropy')\n",
    "'''example of entropy'''"
   ]
  },
  {
   "cell_type": "markdown",
   "metadata": {},
   "source": [
    "## Bias-Variance Dilemma\n",
    "\n",
    "* A **high bias** machine learning algorithm is one that practically ignores the data.\n",
    "* A **high variance** machine learning algorithm that is extremely perceptive to data. It will react very poorly in situations it hasn't come across"
   ]
  },
  {
   "cell_type": "markdown",
   "metadata": {},
   "source": [
    "## Decision Tree's Strengths and Weaknesses\n",
    "\n",
    "| Pros | Cons   |\n",
    "|------|------|\n",
    "|   Easy to use  | Prone to over fitting* |\n",
    "| Graphically allows you to interpret data well | single data will almost always overfit\n",
    "| Can be used to build bigger classiers|Need to know when to stop the growth\n",
    "\n",
    "*especially with data with lots of features and a complicated decision tree(be careful with parameter tunes)"
   ]
  }
 ],
 "metadata": {
  "kernelspec": {
   "display_name": "Python 3",
   "language": "python",
   "name": "python3"
  },
  "language_info": {
   "codemirror_mode": {
    "name": "ipython",
    "version": 3
   },
   "file_extension": ".py",
   "mimetype": "text/x-python",
   "name": "python",
   "nbconvert_exporter": "python",
   "pygments_lexer": "ipython3",
   "version": "3.6.0"
  }
 },
 "nbformat": 4,
 "nbformat_minor": 2
}
